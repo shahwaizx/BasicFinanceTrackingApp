{
  "cells": [
    {
      "cell_type": "markdown",
      "metadata": {
        "id": "o92NPvIPpmCv"
      },
      "source": [
        "# Use OpenRouter With OpenAI Agents SDK"
      ]
    },
    {
      "cell_type": "markdown",
      "metadata": {
        "id": "l5oT3E8gqY_O"
      },
      "source": [
        "Setup Prerequisite:\n",
        "\n",
        "1. [Signup at OpenRouter](https://openrouter.ai/)\n",
        "2. [Create an API Key](https://openrouter.ai/settings/keys)\n",
        "2. Select a Free Model (you can continue as we are using a free model here)"
      ]
    },
    {
      "cell_type": "markdown",
      "metadata": {
        "id": "-Zh5JPz1qLbD"
      },
      "source": [
        "## Free and Paid Models"
      ]
    },
    {
      "cell_type": "markdown",
      "metadata": {
        "id": "3NksiafzqSg7"
      },
      "source": [
        "The OpenRouter supports the latest DeepSeek V3 0324 and 50+ other models for free. Most of them support the defacto standard: OpenAI Chat Completion API.\n",
        "\n",
        "\n",
        "If you are using a free model variant (with an ID ending in :free), then you will be limited to 20 requests per minute and 200 requests per day.\n",
        "\n",
        "**See all Models List: https://openrouter.ai/models**\n",
        "\n",
        "Note: OpenRouter do not charge anything extra at inference time."
      ]
    },
    {
      "cell_type": "markdown",
      "metadata": {
        "id": "Krf3ozmkpsVs"
      },
      "source": [
        "## Rate Limiting and Crediting"
      ]
    },
    {
      "cell_type": "markdown",
      "metadata": {
        "id": "WhcFykdIqKI4"
      },
      "source": [
        "There are a few rate limits that apply to certain types of requests, regardless of account status:\n",
        "\n",
        "- Free limit: If you are using a free model variant (with an ID ending in :free), then you will be limited to 20 requests per minute and 200 requests per day.\n",
        "\n",
        "If your account has a negative credit balance, you may see 402 errors, including for free models. Adding credits to put your balance above zero allows you to use those models again.\n",
        "\n",
        "[Reference](https://openrouter.ai/docs/api-reference/limits)"
      ]
    },
    {
      "cell_type": "markdown",
      "metadata": {
        "id": "GqX_s5idrryf"
      },
      "source": [
        "## Install OpenAI Agents Dep."
      ]
    },
    {
      "cell_type": "code",
      "execution_count": 18,
      "metadata": {
        "id": "7teAe2rONlBe"
      },
      "outputs": [],
      "source": [
        "!pip install -Uq openai-agents"
      ]
    },
    {
      "cell_type": "code",
      "execution_count": 19,
      "metadata": {
        "id": "z3_PWpn4OIyT"
      },
      "outputs": [],
      "source": [
        "import nest_asyncio\n",
        "nest_asyncio.apply()"
      ]
    },
    {
      "cell_type": "markdown",
      "metadata": {
        "id": "ZTOibVJuN_pi"
      },
      "source": [
        "## Provider Config"
      ]
    },
    {
      "cell_type": "code",
      "execution_count": 23,
      "metadata": {
        "id": "zvmgohqY0-Wm"
      },
      "outputs": [],
      "source": [
        "from google.colab import userdata\n",
        "\n",
        "OPENROUTER_API_KEY = userdata.get(\"OPENROUTER_API_KEY\")"
      ]
    },
    {
      "cell_type": "code",
      "execution_count": 26,
      "metadata": {
        "id": "DeTqCZKGlVk_"
      },
      "outputs": [],
      "source": [
        "#Reference: https://openrouter.ai/docs/quickstart\n",
        "\n",
        "BASE_URL = \"https://openrouter.ai/api/v1\"\n",
        "MODEL = \"google/gemini-2.0-flash-lite-001\"\n",
        "\n",
        "# Some other free models on 26th March:\n",
        "# https://openrouter.ai/deepseek/deepseek-chat-v3-0324:free\n",
        "# https://openrouter.ai/google/gemini-2.5-pro-exp-03-25:free"
      ]
    },
    {
      "cell_type": "markdown",
      "metadata": {
        "id": "IyWF4XNPtI7f"
      },
      "source": [
        "## 1. Using the OpenRouter API directly"
      ]
    },
    {
      "cell_type": "code",
      "execution_count": 27,
      "metadata": {
        "colab": {
          "base_uri": "https://localhost:8080/"
        },
        "id": "e0if6eGutM9h",
        "outputId": "b293ff76-f39f-4bd9-d32f-9df54c4a4f3c"
      },
      "outputs": [
        {
          "output_type": "stream",
          "name": "stdout",
          "text": [
            "{'id': 'gen-1745047538-Wlt0KtKwlyRJcoKC69Ba', 'provider': 'Google AI Studio', 'model': 'google/gemini-2.0-flash-lite-001', 'object': 'chat.completion', 'created': 1745047538, 'choices': [{'logprobs': None, 'finish_reason': 'stop', 'native_finish_reason': 'STOP', 'index': 0, 'message': {'role': 'assistant', 'content': 'That\\'s the million-dollar question, isn\\'t it? The meaning of life is a concept that has puzzled philosophers, theologians, and individuals for millennia. There\\'s no single, universally accepted answer, and that\\'s part of what makes it so fascinating. The answer is deeply personal and often evolves throughout someone\\'s life.\\n\\nHere\\'s a breakdown of some common perspectives and considerations:\\n\\n**1. Philosophical Perspectives:**\\n\\n*   **Nihilism:** This philosophy suggests that life is inherently without objective meaning, purpose, or intrinsic value. There\\'s no preordained plan, no cosmic significance.\\n*   **Existentialism:** This emphasizes individual freedom and responsibility. The meaning of life isn\\'t predetermined; we create it through our choices and actions. We\\'re \"condemned to be free\" and must construct our own values and purpose.\\n*   **Absurdism:** This recognizes the conflict between humanity\\'s search for meaning and the meaningless universe. The response to the absurd is not to despair, but to embrace the freedom that comes from living without inherent purpose.\\n*   **Stoicism:** This emphasizes virtue, reason, and living in accordance with nature. The meaning of life is found in cultivating inner peace by focusing on what we can control (our thoughts and actions) and accepting what we cannot.\\n\\n**2. Religious and Spiritual Perspectives:**\\n\\n*   **Deity-Based Religions (Christianity, Islam, Judaism, Hinduism, etc.):** These generally propose that the meaning of life is connected to a higher power. This may involve serving God, following religious laws, striving for spiritual enlightenment, or achieving a relationship with the divine. Specific meanings vary, but often involve love, compassion, and the continuation of the soul.\\n*   **Buddhism:** The goal is to achieve enlightenment, which involves understanding the nature of suffering, overcoming attachments, and achieving Nirvana (a state of liberation from suffering). The meaning is in self-discovery and the cessation of suffering.\\n\\n**3. Secular Perspectives (Humanistic and Values-Based):**\\n\\n*   **Humanism:** Focuses on human values, reason, and ethics. The meaning of life might involve:\\n    *   Contributing to the well-being of others and society.\\n    *   Pursuing knowledge and understanding.\\n    *   Cultivating personal growth and fulfillment.\\n    *   Leaving the world a better place.\\n*   **Eudaimonia (Aristotelian Philosophy):** This emphasizes living a virtuous life and striving for human flourishing. The meaning comes from developing one\\'s full potential and living in accordance with reason and virtue.\\n*   **Hedonism (in its most basic form):** The meaning of life is to maximize pleasure and minimize pain. However, more nuanced views recognize the need for balance and consideration of others.\\n\\n**4. Individual and Practical Considerations:**\\n\\n*   **Creating Your Own Meaning:** Many people believe that the meaning of life is not something to be found, but something to be created. This involves setting goals, pursuing passions, building relationships, and finding what fulfills you.\\n*   **Living a Meaningful Life:** This often involves acts of kindness, pursuing your interests, setting and achieving goals, and connecting with others.\\n*   **Legacy:** Some find meaning in leaving a positive mark on the world, through their work, relationships, or contributions to society.\\n*   **Simple Joys:** Appreciating the present moment, the beauty of the world, and the love of others can also contribute to a sense of meaning.\\n\\n**In Summary:**\\n\\nThe meaning of life is likely not a single answer but a complex, multifaceted concept. It\\'s a journey of exploration and self-discovery.  Important things to consider are:\\n\\n*   **Your values:** What is truly important to you?\\n*   **Your passions:** What brings you joy and fulfillment?\\n*   **Your relationships:** How do you connect with others?\\n*   **Your impact on the world:** What kind of legacy do you want to leave?\\n*   **Continuous growth:**  Be open to evolving your perspective.\\n\\nUltimately, the meaning of life is what **you** make it. It\\'s a question worth pondering throughout your life. It\\'s okay if your answer changes over time.  The search itself can be a meaningful pursuit.\\n', 'refusal': None, 'reasoning': None}}], 'usage': {'prompt_tokens': 7, 'completion_tokens': 906, 'total_tokens': 913}}\n"
          ]
        }
      ],
      "source": [
        "import requests\n",
        "import json\n",
        "\n",
        "response = requests.post(\n",
        "  url=f\"{BASE_URL}/chat/completions\",\n",
        "  headers={\n",
        "    \"Authorization\": f\"Bearer {OPENROUTER_API_KEY}\",\n",
        "  },\n",
        "  data=json.dumps({\n",
        "    \"model\": MODEL,\n",
        "    \"messages\": [\n",
        "      {\n",
        "        \"role\": \"user\",\n",
        "        \"content\": \"What is the meaning of life?\"\n",
        "      }\n",
        "    ]\n",
        "  })\n",
        ")\n",
        "\n",
        "print(response.json())"
      ]
    },
    {
      "cell_type": "code",
      "execution_count": 28,
      "metadata": {
        "colab": {
          "base_uri": "https://localhost:8080/",
          "height": 139
        },
        "id": "mv3B6_oRto5S",
        "outputId": "bd435a9c-a61b-46db-ff60-eb411082d1e7"
      },
      "outputs": [
        {
          "output_type": "execute_result",
          "data": {
            "text/plain": [
              "'That\\'s the million-dollar question, isn\\'t it? The meaning of life is a concept that has puzzled philosophers, theologians, and individuals for millennia. There\\'s no single, universally accepted answer, and that\\'s part of what makes it so fascinating. The answer is deeply personal and often evolves throughout someone\\'s life.\\n\\nHere\\'s a breakdown of some common perspectives and considerations:\\n\\n**1. Philosophical Perspectives:**\\n\\n*   **Nihilism:** This philosophy suggests that life is inherently without objective meaning, purpose, or intrinsic value. There\\'s no preordained plan, no cosmic significance.\\n*   **Existentialism:** This emphasizes individual freedom and responsibility. The meaning of life isn\\'t predetermined; we create it through our choices and actions. We\\'re \"condemned to be free\" and must construct our own values and purpose.\\n*   **Absurdism:** This recognizes the conflict between humanity\\'s search for meaning and the meaningless universe. The response to the absurd is not to despair, but to embrace the freedom that comes from living without inherent purpose.\\n*   **Stoicism:** This emphasizes virtue, reason, and living in accordance with nature. The meaning of life is found in cultivating inner peace by focusing on what we can control (our thoughts and actions) and accepting what we cannot.\\n\\n**2. Religious and Spiritual Perspectives:**\\n\\n*   **Deity-Based Religions (Christianity, Islam, Judaism, Hinduism, etc.):** These generally propose that the meaning of life is connected to a higher power. This may involve serving God, following religious laws, striving for spiritual enlightenment, or achieving a relationship with the divine. Specific meanings vary, but often involve love, compassion, and the continuation of the soul.\\n*   **Buddhism:** The goal is to achieve enlightenment, which involves understanding the nature of suffering, overcoming attachments, and achieving Nirvana (a state of liberation from suffering). The meaning is in self-discovery and the cessation of suffering.\\n\\n**3. Secular Perspectives (Humanistic and Values-Based):**\\n\\n*   **Humanism:** Focuses on human values, reason, and ethics. The meaning of life might involve:\\n    *   Contributing to the well-being of others and society.\\n    *   Pursuing knowledge and understanding.\\n    *   Cultivating personal growth and fulfillment.\\n    *   Leaving the world a better place.\\n*   **Eudaimonia (Aristotelian Philosophy):** This emphasizes living a virtuous life and striving for human flourishing. The meaning comes from developing one\\'s full potential and living in accordance with reason and virtue.\\n*   **Hedonism (in its most basic form):** The meaning of life is to maximize pleasure and minimize pain. However, more nuanced views recognize the need for balance and consideration of others.\\n\\n**4. Individual and Practical Considerations:**\\n\\n*   **Creating Your Own Meaning:** Many people believe that the meaning of life is not something to be found, but something to be created. This involves setting goals, pursuing passions, building relationships, and finding what fulfills you.\\n*   **Living a Meaningful Life:** This often involves acts of kindness, pursuing your interests, setting and achieving goals, and connecting with others.\\n*   **Legacy:** Some find meaning in leaving a positive mark on the world, through their work, relationships, or contributions to society.\\n*   **Simple Joys:** Appreciating the present moment, the beauty of the world, and the love of others can also contribute to a sense of meaning.\\n\\n**In Summary:**\\n\\nThe meaning of life is likely not a single answer but a complex, multifaceted concept. It\\'s a journey of exploration and self-discovery.  Important things to consider are:\\n\\n*   **Your values:** What is truly important to you?\\n*   **Your passions:** What brings you joy and fulfillment?\\n*   **Your relationships:** How do you connect with others?\\n*   **Your impact on the world:** What kind of legacy do you want to leave?\\n*   **Continuous growth:**  Be open to evolving your perspective.\\n\\nUltimately, the meaning of life is what **you** make it. It\\'s a question worth pondering throughout your life. It\\'s okay if your answer changes over time.  The search itself can be a meaningful pursuit.\\n'"
            ],
            "application/vnd.google.colaboratory.intrinsic+json": {
              "type": "string"
            }
          },
          "metadata": {},
          "execution_count": 28
        }
      ],
      "source": [
        "data = response.json()\n",
        "data['choices'][0]['message']['content']"
      ]
    },
    {
      "cell_type": "markdown",
      "metadata": {
        "id": "E_jESzWAsu91"
      },
      "source": [
        "## 2. Using OpenAI Agents SDK"
      ]
    },
    {
      "cell_type": "code",
      "execution_count": null,
      "metadata": {
        "colab": {
          "base_uri": "https://localhost:8080/"
        },
        "id": "QA4vWqtvN6wm",
        "outputId": "06f541a6-931e-491c-a586-3b1f4a860f87"
      },
      "outputs": [
        {
          "name": "stdout",
          "output_type": "stream",
          "text": [
            "A function calls self,\n",
            "Breaking tasks into smaller,\n",
            "Until base is reached.\n",
            "\n"
          ]
        }
      ],
      "source": [
        "import asyncio\n",
        "from openai import AsyncOpenAI\n",
        "from agents import Agent, OpenAIChatCompletionsModel, Runner, set_tracing_disabled\n",
        "\n",
        "client = AsyncOpenAI(\n",
        "    api_key=OPENROUTER_API_KEY,\n",
        "    base_url=BASE_URL\n",
        ")\n",
        "\n",
        "set_tracing_disabled(disabled=True)\n",
        "\n",
        "async def main():\n",
        "    # This agent will use the custom LLM provider\n",
        "    agent = Agent(\n",
        "        name=\"Assistant\",\n",
        "        instructions=\"You only respond in haikus.\",\n",
        "        model=OpenAIChatCompletionsModel(model=MODEL, openai_client=client),\n",
        "    )\n",
        "\n",
        "    result = await Runner.run(\n",
        "        agent,\n",
        "        \"Tell me about recursion in programming.\",\n",
        "    )\n",
        "    print(result.final_output)\n",
        "\n",
        "\n",
        "if __name__ == \"__main__\":\n",
        "    asyncio.run(main())"
      ]
    },
    {
      "cell_type": "markdown",
      "metadata": {
        "id": "WG0wBtGdzt_l"
      },
      "source": [
        "# OpenRouter 404 Error Solution\n",
        "\n",
        "## Error - No endpoints found matching\n",
        "```python\n",
        "NotFoundError: Error code: 404 - {'error': {'message': 'No endpoints found matching your data policy. Enable prompt training here: https://openrouter.ai/settings/privacy', 'code': 404}}\n",
        "```\n",
        "\n",
        "## Cause\n",
        "This error occurs when OpenRouter API can't find endpoints matching your data policy, typically because prompt training is disabled.\n",
        "\n",
        "## Solution\n",
        "\n",
        "1. **Enable Prompt Training**:\n",
        "   - Visit [OpenRouter Privacy Settings](https://openrouter.ai/settings/privacy)\n",
        "   - Toggle ON \"Prompt Training\" option\n",
        "\n",
        "2. **Re-run your code** after enabling\n",
        "\n",
        "![OpenRouter Settings Screenshot](https://github.com/panaversity/learn-agentic-ai/blob/main/01_ai_agents_first/02_openrouter/openrouter.png?raw=1)\n",
        "*(Example: Enable prompt training in privacy settings)*\n",
        "\n",
        "## Prevention\n",
        "Keep prompt training enabled for uninterrupted API access.\n",
        "```"
      ]
    }
  ],
  "metadata": {
    "colab": {
      "provenance": []
    },
    "kernelspec": {
      "display_name": "Python 3",
      "name": "python3"
    },
    "language_info": {
      "name": "python"
    }
  },
  "nbformat": 4,
  "nbformat_minor": 0
}